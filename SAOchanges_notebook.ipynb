{
 "cells": [
  {
   "cell_type": "markdown",
   "id": "40ff7750-e3dc-4bdd-9366-fceee84a2051",
   "metadata": {
    "tags": []
   },
   "source": [
    "# Notebook: Ocean acidification and long-term changes in the carbonate system properties of the South Atlantic Ocean\n",
    "**Author:** Andrés Piñango  \n",
    "Laboratório de Estudos dos Oceanos e Clima – LEOC, Instituto de Oceanografia, Universidade Federal do Rio Grande  \n",
    "**Last change:** 05/08/2021\n",
    "***"
   ]
  },
  {
   "cell_type": "markdown",
   "id": "1612cac3-8d47-41b4-9cfa-bcc8146c68d1",
   "metadata": {
    "tags": []
   },
   "source": [
    "## User Configuration\n",
    "If you are running and offline version, change the *directory* variable to match the current location of the south-atlantic-change folder, and set the *save_results* variable to **TRUE**. If you are running the code in a binder environment, nothing below here should need to be changed by the user."
   ]
  },
  {
   "cell_type": "code",
   "execution_count": null,
   "id": "78e6a0d5-3c96-493a-972e-bd0932cb9b82",
   "metadata": {},
   "outputs": [],
   "source": [
    "directory <- \"~/south-atlantic-changes\"\n",
    "save_results <- FALSE"
   ]
  },
  {
   "cell_type": "markdown",
   "id": "2bf41dec-3045-40f6-8c7d-81dcbe09abf0",
   "metadata": {
    "tags": []
   },
   "source": [
    "## Load Packages"
   ]
  },
  {
   "cell_type": "code",
   "execution_count": null,
   "id": "0acc2c96-4764-4fa2-a842-b38741dda16a",
   "metadata": {},
   "outputs": [],
   "source": [
    "library(oce)\n",
    "library(MASS)\n",
    "library(signal)\n",
    "library(ggpubr)\n",
    "library(seacarb)\n",
    "library(sfsmisc)\n",
    "library(tidyverse)"
   ]
  },
  {
   "cell_type": "markdown",
   "id": "089ca2a9-45a3-42e2-8252-5931cc7c04a0",
   "metadata": {
    "tags": []
   },
   "source": [
    "## Save folder creation \n",
    "If the *save_results* variable is **TRUE**, this code will create the *Results* folder and subfolders for saving the results in the directory path. Only usefull if you are running the offline version."
   ]
  },
  {
   "cell_type": "code",
   "execution_count": null,
   "id": "7a58ab5d-7e96-4145-abc1-edfdb754e04d",
   "metadata": {},
   "outputs": [],
   "source": [
    "setwd(directory)\n",
    "if (save_results == TRUE) {\n",
    "  dir.create(\"Results\")\n",
    "  subfolder_names <- c(\"A9.5\", \"A10\", \"A10.5\", \"A13\", \"A16\", \"A17\")\n",
    "  for (n in 1:length(subfolder_names)) {\n",
    "    dir_name <- paste0(directory, \"/\", \"Results/\", subfolder_names[n])\n",
    "    dir.create(dir_name)\n",
    "  }\n",
    "  rm(n, subfolder_names)\n",
    "}"
   ]
  },
  {
   "cell_type": "markdown",
   "id": "df1a96c3-5388-442a-93f5-605e9d4cd1e9",
   "metadata": {
    "tags": []
   },
   "source": [
    "## Anthropogenic and Natural DIC Changes\n",
    "This code will apply the *calculate_changes* function based in the eMLR method described in Piñango et al. (in preparation) to every section. This function allows the determination of anthropogenic (C$_{ant}$) and natural changes in DIC. A different function is used for the A10.5 section due to lack of nutrient data in this section. Some regressions do not converge. Hence, warnings are supressed."
   ]
  },
  {
   "cell_type": "code",
   "execution_count": null,
   "id": "1e82e444-110e-460e-bb11-124ea111a434",
   "metadata": {},
   "outputs": [],
   "source": [
    "source(\"./Scripts/Calculations/calculate_changes.R\")\n",
    "source(\"./Scripts/Calculations/calculate_changes_modified.R\")\n",
    "\n",
    "# A9.5\n",
    "changes_DIC_A95 <- suppressWarnings(calculate_changes(\"./Data/A9.5\", save_results, \"A9.5\"))\n",
    "# A10\n",
    "changes_DIC_A10 <- suppressWarnings(calculate_changes(\"./Data/A10\", save_results, \"A10\"))\n",
    "# A10.5\n",
    "changes_DIC_A105 <- suppressWarnings(calculate_changes_modified(\"./Data/A10.5\", save_results, \"A10.5\"))\n",
    "# A13\n",
    "changes_DIC_A13 <- suppressWarnings(calculate_changes(\"./Data/A13\", save_results, \"A13\"))\n",
    "# A16\n",
    "changes_DIC_A16 <- suppressWarnings(calculate_changes(\"./Data/A16\", save_results, \"A16\"))\n",
    "# A17\n",
    "changes_DIC_A17 <- suppressWarnings(calculate_changes(\"./Data/A17\", save_results, \"A17\"))"
   ]
  },
  {
   "cell_type": "markdown",
   "id": "c8290266-0159-4c91-946e-4973a911c754",
   "metadata": {
    "jp-MarkdownHeadingCollapsed": true,
    "tags": []
   },
   "source": [
    "## Inventory changes associated with Cant uptake\n",
    "Calculate the inventories of C$_{ant}$ in the water column from 200 to 2000 using the estimates obtained by the *calculate_changes* function. This function is an adaptation of the approach taken by Tanhua & Keeling (2012) doi:10.5194/bg-9-4819-2012"
   ]
  },
  {
   "cell_type": "code",
   "execution_count": null,
   "id": "2cc26c7c-d6c6-4025-a012-1bbd86b8f74b",
   "metadata": {},
   "outputs": [],
   "source": [
    "source(\"./Scripts/Calculations/calculate_inventories.R\")\n",
    "\n",
    "# A9.5\n",
    "inventories_A95 <- calculate_inventories(changes_DIC_A95,\n",
    "                                         2018 - 2009,\n",
    "                                         save_results, \"A9.5\")\n",
    "# A10\n",
    "inventories_A10 <- calculate_inventories(changes_DIC_A10,\n",
    "                                         c(2003 - 1992, 2011 - 1992, 2011 - 2003),\n",
    "                                         save_results, \"A10\")\n",
    "# A10.5\n",
    "inventories_A105 <- calculate_inventories(changes_DIC_A105,\n",
    "                                          2017 - 2011,\n",
    "                                          save_results, \"A10.5\")\n",
    "# A13\n",
    "inventories_A13 <- calculate_inventories(changes_DIC_A13,\n",
    "                                         2010 - 1995,\n",
    "                                         save_results, \"A13\")\n",
    "# A16\n",
    "inventories_A16 <- calculate_inventories(changes_DIC_A16,\n",
    "                                         c(2005 - 1989, 2013 - 1989, 2013 - 2005),\n",
    "                                         save_results, \"A16\")\n",
    "# A17\n",
    "inventories_A17 <- calculate_inventories(changes_DIC_A17,\n",
    "                                         c(2013 - 1994, 2019 - 1994, 2019 - 2013),\n",
    "                                         save_results, \"A17\")"
   ]
  },
  {
   "cell_type": "markdown",
   "id": "245e6ca7-2d9e-48f9-ad48-30c8179a68c8",
   "metadata": {
    "jp-MarkdownHeadingCollapsed": true,
    "tags": []
   },
   "source": [
    "## pH and carbonate changes by anthropogenic an natural perturbations \n",
    "Calculate the changes in pH and the carbonate system parameters as result of the uptake of anthropogenic carbon (C$_{ant}$) and natural changes in DIC. Uses the estimates calculated by the \"calculate_changes\" function. Some of the data are beyond the the valid range of temperature or salinity defined for the constants K1 and K2 of Millero et al (2006) doi:10.1016/j.marchem.2005.12.001. Hence, warnings are supressed."
   ]
  },
  {
   "cell_type": "code",
   "execution_count": null,
   "id": "863e639b-662a-4412-9121-ba5a5508cb76",
   "metadata": {},
   "outputs": [],
   "source": [
    "source(\"./Scripts/Calculations/calculate_pH.R\")\n",
    "\n",
    "# A9.5\n",
    "pH_A95 <- suppressWarnings(calculate_pH(changes_DIC_A95,\n",
    "                       2018 - 2009,\n",
    "                       save_results, \"A9.5\"))\n",
    "# A10\n",
    "pH_A10 <- suppressWarnings(calculate_pH(changes_DIC_A10,\n",
    "                       c(2003 - 1992, 2011 - 1992, 2011 - 2003),\n",
    "                       save_results, \"A10\"))\n",
    "# A10.5\n",
    "pH_A105 <- suppressWarnings(calculate_pH(changes_DIC_A105,\n",
    "                        2011 - 2017,\n",
    "                        save_results, \"A10.5\"))\n",
    "# A13\n",
    "pH_A13 <- suppressWarnings(calculate_pH(changes_DIC_A13,\n",
    "                       2010 - 1995,\n",
    "                       save_results, \"A13\"))\n",
    "# A16\n",
    "pH_A16 <- suppressWarnings(calculate_pH(changes_DIC_A16,\n",
    "                       c(2005 - 1989, 2013 - 1989, 2013 - 2005),\n",
    "                       save_results, \"A16\"))\n",
    "# A17\n",
    "pH_A17 <- suppressWarnings(calculate_pH(changes_DIC_A17,\n",
    "                       c(2013 - 1994, 2019 - 1994, 2019 - 2013),\n",
    "                       save_results, \"A17\"))"
   ]
  },
  {
   "cell_type": "markdown",
   "id": "36b758c2-86dd-499f-beba-ece1b414c6f1",
   "metadata": {},
   "source": [
    "## Figures\n",
    "***"
   ]
  },
  {
   "cell_type": "markdown",
   "id": "97a934bb-ea05-4270-b89b-85901e8e2ad2",
   "metadata": {
    "tags": []
   },
   "source": [
    "### Figure 3.\n",
    "Annual anthropogenic carbon (C$_{ant}$) accumulation rates and column inventory changes in the zonal (left panels) and meridional (right panels) sections evaluated in the study. The dots represent the in-situ data, while the lines show each section results, and the colored shadows, their uncertainties. For a better visualization, open the figure in another tab."
   ]
  },
  {
   "cell_type": "code",
   "execution_count": null,
   "id": "904b100c-f57b-41dd-afb5-3249a39884ea",
   "metadata": {},
   "outputs": [],
   "source": [
    "suppressWarnings(source(\"./Scripts/Figures/Figure 3.R\"))\n",
    "options(repr.plot.width = 8.5, repr.plot.height = 10.5)\n",
    "plot(figure3)"
   ]
  },
  {
   "cell_type": "markdown",
   "id": "96ad9959-ca4e-4044-8794-3285e4f5e611",
   "metadata": {
    "tags": []
   },
   "source": [
    "### Figure 5.\n",
    "Vertical profile showing the effect of the anthropogenic carbon (C$_{ant}$) invasion (in red) and changes in the carbon content due to apparent oxygen utilization (AOU) variations (in blue) over the annual acidifications rates of the water column at the (a) east and (b) west of 15°W in the South Atlantic Ocean. Data were binned in 12 intervals of neutral density and the boxplots show a summary of the data distribution. Colored lines represent the median value of each interval of neutral density. For a better visualization, open the figure in another tab."
   ]
  },
  {
   "cell_type": "code",
   "execution_count": null,
   "id": "fe8f67ba-9623-47b0-9a76-867e2edb7836",
   "metadata": {},
   "outputs": [],
   "source": [
    "suppressWarnings(source(\"./Scripts/Figures/Figure 5.R\"))\n",
    "options(repr.plot.width = 6, repr.plot.height = 7)\n",
    "plot(figure5)"
   ]
  },
  {
   "cell_type": "markdown",
   "id": "13cf2861-c367-4c4b-bec1-fb8a5ee46a8b",
   "metadata": {},
   "source": [
    "### Figure 6.\n",
    "Annual acidification rates and annual changes in the calcite saturation state, the hydrogen ion concentration and the Revelle factor as a consequence of the absorption of anthropogenic carbon for the central waters of the zonal (left) and meridional (right) sections evaluated in this study. The dots represent the in-situ data, while the lines were obtained by local polynomial regression fitting. For a better visualization, open the figure in another tab."
   ]
  },
  {
   "cell_type": "code",
   "execution_count": null,
   "id": "3f62eb1a-e057-4b2a-9814-b5442e959c50",
   "metadata": {},
   "outputs": [],
   "source": [
    "suppressWarnings(source(\"./Scripts/Figures/Figure 6.R\"))\n",
    "options(repr.plot.width = 9, repr.plot.height = 10.5)\n",
    "plot(figure6)"
   ]
  },
  {
   "cell_type": "markdown",
   "id": "38282ead-705c-4108-9563-cca87ed7f6c1",
   "metadata": {},
   "source": [
    "## Summary Tables\n",
    "***"
   ]
  },
  {
   "cell_type": "markdown",
   "id": "72c6646c-123f-45c2-abea-b7eb6aabb604",
   "metadata": {},
   "source": [
    "### Summary Table 1.\n",
    "DIC changes in the central waters by C$_{ant}$ uptake and natural process and mean changes in the carbonate system as result of the anthropogenic uptake."
   ]
  },
  {
   "cell_type": "code",
   "execution_count": null,
   "id": "f40bb112-1bd7-446a-bda3-485472823dd6",
   "metadata": {},
   "outputs": [],
   "source": [
    "source(\"./Scripts/summary_Cant_changes.R\")\n",
    "cw_summary"
   ]
  },
  {
   "cell_type": "markdown",
   "id": "4db79144-48b4-4c26-a7f1-95dcb8c73296",
   "metadata": {},
   "source": [
    "### Summary Table 2.\n",
    "DIC changes in the intermediate waters by C$_{ant}$ uptake and natural process and mean changes in the carbonate system as result of the anthropogenic uptake."
   ]
  },
  {
   "cell_type": "code",
   "execution_count": null,
   "id": "0ef9d6fd-ccc7-414f-9452-3c4c9fd4dc7d",
   "metadata": {},
   "outputs": [],
   "source": [
    "iw_summary"
   ]
  },
  {
   "cell_type": "markdown",
   "id": "b4739b1b-7b6b-4cbf-b923-94794a179a8a",
   "metadata": {},
   "source": [
    "### Summary Table 3.\n",
    "C$_{ant}$ inventory changes in the South Atlantic Ocean."
   ]
  },
  {
   "cell_type": "code",
   "execution_count": null,
   "id": "2edb84db-cc3e-4189-a095-d26e8c249a56",
   "metadata": {},
   "outputs": [],
   "source": [
    "source(\"./Scripts/summary_inventories.R\")\n",
    "inventory_summary"
   ]
  }
 ],
 "metadata": {
  "kernelspec": {
   "display_name": "R",
   "language": "R",
   "name": "ir"
  },
  "language_info": {
   "codemirror_mode": "r",
   "file_extension": ".r",
   "mimetype": "text/x-r-source",
   "name": "R",
   "pygments_lexer": "r",
   "version": "4.1.0"
  }
 },
 "nbformat": 4,
 "nbformat_minor": 5
}
